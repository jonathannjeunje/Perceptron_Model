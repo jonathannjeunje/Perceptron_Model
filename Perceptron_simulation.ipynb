{
 "metadata": {
  "language_info": {
   "codemirror_mode": {
    "name": "ipython",
    "version": 3
   },
   "file_extension": ".py",
   "mimetype": "text/x-python",
   "name": "python",
   "nbconvert_exporter": "python",
   "pygments_lexer": "ipython3",
   "version": "3.7.3-final"
  },
  "orig_nbformat": 2,
  "kernelspec": {
   "name": "python3",
   "display_name": "Python 3",
   "language": "python"
  }
 },
 "nbformat": 4,
 "nbformat_minor": 2,
 "cells": [
  {
   "cell_type": "code",
   "execution_count": 1,
   "metadata": {},
   "outputs": [],
   "source": [
    "import pprint as pp\n",
    "import json"
   ]
  },
  {
   "cell_type": "code",
   "execution_count": 2,
   "metadata": {},
   "outputs": [],
   "source": [
    "def actual_output_fn(input, current_weight, threshold):\n",
    "    weighted_sum = 0 \n",
    "    for i in range(len(input)):\n",
    "        weighted_sum += input[i] * current_weight[i]\n",
    "    if weighted_sum < threshold: return 0\n",
    "    else: return 1 \n",
    "\n",
    "def new_weight_fn(current_weight, learning_coefficient, target_output, actual_output, input):\n",
    "    size = len(current_weight)\n",
    "    new_weight = [0]*size\n",
    "    for i in range(size):\n",
    "        new_weight[i] = current_weight[i] + learning_coefficient * (target_output - actual_output) * input[i]\n",
    "    return new_weight\n",
    "\n",
    "def weight_change_fn(current_weight, updated_weight):\n",
    "    size = len(current_weight)\n",
    "    weight_change = [0]*size\n",
    "    for i in range(size):\n",
    "        weight_change[i] = updated_weight[i] - current_weight[i]\n",
    "    return weight_change\n",
    "\n",
    "def perceptron_simulation(data):\n",
    "    current_weight = data[\"original_weight\"]\n",
    "    size = len(data[\"input\"])\n",
    "    actual_output = [0]*size\n",
    "    flag = 1\n",
    "    epoque = 0\n",
    "    while(flag == 1):\n",
    "        epoque += 1\n",
    "        print(\"\\nEpoque\", epoque,\": \")\n",
    "        for i in range(size):\n",
    "            actual_output[i] = actual_output_fn(data[\"input\"][i], current_weight, data[\"threshold\"])\n",
    "            updated_weight = new_weight_fn(current_weight, data[\"learning_coefficient\"], data[\"target_output\"][i], actual_output[i], data[\"input\"][i])\n",
    "\n",
    "            print(\"\"\"\n",
    "                    target_output: %s\n",
    "                    actual_output: %s\n",
    "                    current_weight: %s\n",
    "                    weight_change: %s\n",
    "                    current_weight: %s\n",
    "                \"\"\" %(\n",
    "                    data[\"target_output\"][i],\n",
    "                    actual_output[i], \n",
    "                    current_weight,\n",
    "                    weight_change_fn(current_weight, updated_weight),\n",
    "                    updated_weight)\n",
    "                    )\n",
    "            current_weight = updated_weight\n",
    "\n",
    "        flag = 0\n",
    "        for i in range(size):\n",
    "            if data[\"target_output\"][i]^actual_output[i] == 1: \n",
    "                flag = 1\n",
    "                break"
   ]
  },
  {
   "cell_type": "code",
   "execution_count": 3,
   "metadata": {
    "tags": [
     "outputPrepend"
    ]
   },
   "outputs": [
    {
     "output_type": "stream",
     "name": "stdout",
     "text": [
      "0005]\n                \n\n                    target_output: 1\n                    actual_output: 1\n                    current_weight: [3.7, 3.6000000000000005]\n                    weight_change: [0.0, 0.0]\n                    current_weight: [3.7, 3.6000000000000005]\n                \n\nEpoque 5 : \n\n                    target_output: 0\n                    actual_output: 0\n                    current_weight: [3.7, 3.6000000000000005]\n                    weight_change: [0.0, 0.0]\n                    current_weight: [3.7, 3.6000000000000005]\n                \n\n                    target_output: 1\n                    actual_output: 1\n                    current_weight: [3.7, 3.6000000000000005]\n                    weight_change: [0.0, 0.0]\n                    current_weight: [3.7, 3.6000000000000005]\n                \n\n                    target_output: 1\n                    actual_output: 1\n                    current_weight: [3.7, 3.6000000000000005]\n                    weight_change: [0.0, 0.0]\n                    current_weight: [3.7, 3.6000000000000005]\n                \n\n                    target_output: 1\n                    actual_output: 1\n                    current_weight: [3.7, 3.6000000000000005]\n                    weight_change: [0.0, 0.0]\n                    current_weight: [3.7, 3.6000000000000005]\n                \n{'input': [[0, 0], [0, 1], [1, 0], [1, 1]],\n 'learning_coefficient': 0.7,\n 'original_weight': [0.9, 0.8],\n 'target_output': [1, 0, 0, 0],\n 'threshold': -1.5}\n\nEpoque 1 : \n\n                    target_output: 1\n                    actual_output: 1\n                    current_weight: [0.9, 0.8]\n                    weight_change: [0.0, 0.0]\n                    current_weight: [0.9, 0.8]\n                \n\n                    target_output: 0\n                    actual_output: 1\n                    current_weight: [0.9, 0.8]\n                    weight_change: [0.0, -0.7]\n                    current_weight: [0.9, 0.10000000000000009]\n                \n\n                    target_output: 0\n                    actual_output: 1\n                    current_weight: [0.9, 0.10000000000000009]\n                    weight_change: [-0.7, 0.0]\n                    current_weight: [0.20000000000000007, 0.10000000000000009]\n                \n\n                    target_output: 0\n                    actual_output: 1\n                    current_weight: [0.20000000000000007, 0.10000000000000009]\n                    weight_change: [-0.7, -0.7]\n                    current_weight: [-0.4999999999999999, -0.5999999999999999]\n                \n\nEpoque 2 : \n\n                    target_output: 1\n                    actual_output: 1\n                    current_weight: [-0.4999999999999999, -0.5999999999999999]\n                    weight_change: [0.0, 0.0]\n                    current_weight: [-0.4999999999999999, -0.5999999999999999]\n                \n\n                    target_output: 0\n                    actual_output: 1\n                    current_weight: [-0.4999999999999999, -0.5999999999999999]\n                    weight_change: [0.0, -0.7]\n                    current_weight: [-0.4999999999999999, -1.2999999999999998]\n                \n\n                    target_output: 0\n                    actual_output: 1\n                    current_weight: [-0.4999999999999999, -1.2999999999999998]\n                    weight_change: [-0.6999999999999998, 0.0]\n                    current_weight: [-1.1999999999999997, -1.2999999999999998]\n                \n\n                    target_output: 0\n                    actual_output: 0\n                    current_weight: [-1.1999999999999997, -1.2999999999999998]\n                    weight_change: [0.0, 0.0]\n                    current_weight: [-1.1999999999999997, -1.2999999999999998]\n                \n\nEpoque 3 : \n\n                    target_output: 1\n                    actual_output: 1\n                    current_weight: [-1.1999999999999997, -1.2999999999999998]\n                    weight_change: [0.0, 0.0]\n                    current_weight: [-1.1999999999999997, -1.2999999999999998]\n                \n\n                    target_output: 0\n                    actual_output: 1\n                    current_weight: [-1.1999999999999997, -1.2999999999999998]\n                    weight_change: [0.0, -0.7]\n                    current_weight: [-1.1999999999999997, -1.9999999999999998]\n                \n\n                    target_output: 0\n                    actual_output: 1\n                    current_weight: [-1.1999999999999997, -1.9999999999999998]\n                    weight_change: [-0.7, 0.0]\n                    current_weight: [-1.8999999999999997, -1.9999999999999998]\n                \n\n                    target_output: 0\n                    actual_output: 0\n                    current_weight: [-1.8999999999999997, -1.9999999999999998]\n                    weight_change: [0.0, 0.0]\n                    current_weight: [-1.8999999999999997, -1.9999999999999998]\n                \n\nEpoque 4 : \n\n                    target_output: 1\n                    actual_output: 1\n                    current_weight: [-1.8999999999999997, -1.9999999999999998]\n                    weight_change: [0.0, 0.0]\n                    current_weight: [-1.8999999999999997, -1.9999999999999998]\n                \n\n                    target_output: 0\n                    actual_output: 0\n                    current_weight: [-1.8999999999999997, -1.9999999999999998]\n                    weight_change: [0.0, 0.0]\n                    current_weight: [-1.8999999999999997, -1.9999999999999998]\n                \n\n                    target_output: 0\n                    actual_output: 0\n                    current_weight: [-1.8999999999999997, -1.9999999999999998]\n                    weight_change: [0.0, 0.0]\n                    current_weight: [-1.8999999999999997, -1.9999999999999998]\n                \n\n                    target_output: 0\n                    actual_output: 0\n                    current_weight: [-1.8999999999999997, -1.9999999999999998]\n                    weight_change: [0.0, 0.0]\n                    current_weight: [-1.8999999999999997, -1.9999999999999998]\n                \n{'input': [[0, 0, 0],\n           [0, 0, 1],\n           [0, 1, 0],\n           [0, 1, 1],\n           [1, 0, 0],\n           [1, 0, 1],\n           [1, 1, 0],\n           [1, 1, 1]],\n 'learning_coefficient': 0.7,\n 'original_weight': [0.5, 0.2, 0.6],\n 'target_output': [0, 0, 1, 1, 0, 0, 1, 1],\n 'threshold': 2.5}\n\nEpoque 1 : \n\n                    target_output: 0\n                    actual_output: 0\n                    current_weight: [0.5, 0.2, 0.6]\n                    weight_change: [0.0, 0.0, 0.0]\n                    current_weight: [0.5, 0.2, 0.6]\n                \n\n                    target_output: 0\n                    actual_output: 0\n                    current_weight: [0.5, 0.2, 0.6]\n                    weight_change: [0.0, 0.0, 0.0]\n                    current_weight: [0.5, 0.2, 0.6]\n                \n\n                    target_output: 1\n                    actual_output: 0\n                    current_weight: [0.5, 0.2, 0.6]\n                    weight_change: [0.0, 0.7, 0.0]\n                    current_weight: [0.5, 0.8999999999999999, 0.6]\n                \n\n                    target_output: 1\n                    actual_output: 0\n                    current_weight: [0.5, 0.8999999999999999, 0.6]\n                    weight_change: [0.0, 0.7, 0.6999999999999998]\n                    current_weight: [0.5, 1.5999999999999999, 1.2999999999999998]\n                \n\n                    target_output: 0\n                    actual_output: 0\n                    current_weight: [0.5, 1.5999999999999999, 1.2999999999999998]\n                    weight_change: [0.0, 0.0, 0.0]\n                    current_weight: [0.5, 1.5999999999999999, 1.2999999999999998]\n                \n\n                    target_output: 0\n                    actual_output: 0\n                    current_weight: [0.5, 1.5999999999999999, 1.2999999999999998]\n                    weight_change: [0.0, 0.0, 0.0]\n                    current_weight: [0.5, 1.5999999999999999, 1.2999999999999998]\n                \n\n                    target_output: 1\n                    actual_output: 0\n                    current_weight: [0.5, 1.5999999999999999, 1.2999999999999998]\n                    weight_change: [0.7, 0.7, 0.0]\n                    current_weight: [1.2, 2.3, 1.2999999999999998]\n                \n\n                    target_output: 1\n                    actual_output: 1\n                    current_weight: [1.2, 2.3, 1.2999999999999998]\n                    weight_change: [0.0, 0.0, 0.0]\n                    current_weight: [1.2, 2.3, 1.2999999999999998]\n                \n\nEpoque 2 : \n\n                    target_output: 0\n                    actual_output: 0\n                    current_weight: [1.2, 2.3, 1.2999999999999998]\n                    weight_change: [0.0, 0.0, 0.0]\n                    current_weight: [1.2, 2.3, 1.2999999999999998]\n                \n\n                    target_output: 0\n                    actual_output: 0\n                    current_weight: [1.2, 2.3, 1.2999999999999998]\n                    weight_change: [0.0, 0.0, 0.0]\n                    current_weight: [1.2, 2.3, 1.2999999999999998]\n                \n\n                    target_output: 1\n                    actual_output: 0\n                    current_weight: [1.2, 2.3, 1.2999999999999998]\n                    weight_change: [0.0, 0.7000000000000002, 0.0]\n                    current_weight: [1.2, 3.0, 1.2999999999999998]\n                \n\n                    target_output: 1\n                    actual_output: 1\n                    current_weight: [1.2, 3.0, 1.2999999999999998]\n                    weight_change: [0.0, 0.0, 0.0]\n                    current_weight: [1.2, 3.0, 1.2999999999999998]\n                \n\n                    target_output: 0\n                    actual_output: 0\n                    current_weight: [1.2, 3.0, 1.2999999999999998]\n                    weight_change: [0.0, 0.0, 0.0]\n                    current_weight: [1.2, 3.0, 1.2999999999999998]\n                \n\n                    target_output: 0\n                    actual_output: 1\n                    current_weight: [1.2, 3.0, 1.2999999999999998]\n                    weight_change: [-0.7, 0.0, -0.7]\n                    current_weight: [0.5, 3.0, 0.5999999999999999]\n                \n\n                    target_output: 1\n                    actual_output: 1\n                    current_weight: [0.5, 3.0, 0.5999999999999999]\n                    weight_change: [0.0, 0.0, 0.0]\n                    current_weight: [0.5, 3.0, 0.5999999999999999]\n                \n\n                    target_output: 1\n                    actual_output: 1\n                    current_weight: [0.5, 3.0, 0.5999999999999999]\n                    weight_change: [0.0, 0.0, 0.0]\n                    current_weight: [0.5, 3.0, 0.5999999999999999]\n                \n\nEpoque 3 : \n\n                    target_output: 0\n                    actual_output: 0\n                    current_weight: [0.5, 3.0, 0.5999999999999999]\n                    weight_change: [0.0, 0.0, 0.0]\n                    current_weight: [0.5, 3.0, 0.5999999999999999]\n                \n\n                    target_output: 0\n                    actual_output: 0\n                    current_weight: [0.5, 3.0, 0.5999999999999999]\n                    weight_change: [0.0, 0.0, 0.0]\n                    current_weight: [0.5, 3.0, 0.5999999999999999]\n                \n\n                    target_output: 1\n                    actual_output: 1\n                    current_weight: [0.5, 3.0, 0.5999999999999999]\n                    weight_change: [0.0, 0.0, 0.0]\n                    current_weight: [0.5, 3.0, 0.5999999999999999]\n                \n\n                    target_output: 1\n                    actual_output: 1\n                    current_weight: [0.5, 3.0, 0.5999999999999999]\n                    weight_change: [0.0, 0.0, 0.0]\n                    current_weight: [0.5, 3.0, 0.5999999999999999]\n                \n\n                    target_output: 0\n                    actual_output: 0\n                    current_weight: [0.5, 3.0, 0.5999999999999999]\n                    weight_change: [0.0, 0.0, 0.0]\n                    current_weight: [0.5, 3.0, 0.5999999999999999]\n                \n\n                    target_output: 0\n                    actual_output: 0\n                    current_weight: [0.5, 3.0, 0.5999999999999999]\n                    weight_change: [0.0, 0.0, 0.0]\n                    current_weight: [0.5, 3.0, 0.5999999999999999]\n                \n\n                    target_output: 1\n                    actual_output: 1\n                    current_weight: [0.5, 3.0, 0.5999999999999999]\n                    weight_change: [0.0, 0.0, 0.0]\n                    current_weight: [0.5, 3.0, 0.5999999999999999]\n                \n\n                    target_output: 1\n                    actual_output: 1\n                    current_weight: [0.5, 3.0, 0.5999999999999999]\n                    weight_change: [0.0, 0.0, 0.0]\n                    current_weight: [0.5, 3.0, 0.5999999999999999]\n                \n{'input': [[0, 0], [0, 1], [1, 0], [1, 1]],\n 'learning_coefficient': 0.8,\n 'original_weight': [0.1, 0.9],\n 'target_output': [0, 0, 1, 1],\n 'threshold': 1.9}\n\nEpoque 1 : \n\n                    target_output: 0\n                    actual_output: 0\n                    current_weight: [0.1, 0.9]\n                    weight_change: [0.0, 0.0]\n                    current_weight: [0.1, 0.9]\n                \n\n                    target_output: 0\n                    actual_output: 0\n                    current_weight: [0.1, 0.9]\n                    weight_change: [0.0, 0.0]\n                    current_weight: [0.1, 0.9]\n                \n\n                    target_output: 1\n                    actual_output: 0\n                    current_weight: [0.1, 0.9]\n                    weight_change: [0.8, 0.0]\n                    current_weight: [0.9, 0.9]\n                \n\n                    target_output: 1\n                    actual_output: 0\n                    current_weight: [0.9, 0.9]\n                    weight_change: [0.8000000000000002, 0.8000000000000002]\n                    current_weight: [1.7000000000000002, 1.7000000000000002]\n                \n\nEpoque 2 : \n\n                    target_output: 0\n                    actual_output: 0\n                    current_weight: [1.7000000000000002, 1.7000000000000002]\n                    weight_change: [0.0, 0.0]\n                    current_weight: [1.7000000000000002, 1.7000000000000002]\n                \n\n                    target_output: 0\n                    actual_output: 0\n                    current_weight: [1.7000000000000002, 1.7000000000000002]\n                    weight_change: [0.0, 0.0]\n                    current_weight: [1.7000000000000002, 1.7000000000000002]\n                \n\n                    target_output: 1\n                    actual_output: 0\n                    current_weight: [1.7000000000000002, 1.7000000000000002]\n                    weight_change: [0.7999999999999998, 0.0]\n                    current_weight: [2.5, 1.7000000000000002]\n                \n\n                    target_output: 1\n                    actual_output: 1\n                    current_weight: [2.5, 1.7000000000000002]\n                    weight_change: [0.0, 0.0]\n                    current_weight: [2.5, 1.7000000000000002]\n                \n\nEpoque 3 : \n\n                    target_output: 0\n                    actual_output: 0\n                    current_weight: [2.5, 1.7000000000000002]\n                    weight_change: [0.0, 0.0]\n                    current_weight: [2.5, 1.7000000000000002]\n                \n\n                    target_output: 0\n                    actual_output: 0\n                    current_weight: [2.5, 1.7000000000000002]\n                    weight_change: [0.0, 0.0]\n                    current_weight: [2.5, 1.7000000000000002]\n                \n\n                    target_output: 1\n                    actual_output: 1\n                    current_weight: [2.5, 1.7000000000000002]\n                    weight_change: [0.0, 0.0]\n                    current_weight: [2.5, 1.7000000000000002]\n                \n\n                    target_output: 1\n                    actual_output: 1\n                    current_weight: [2.5, 1.7000000000000002]\n                    weight_change: [0.0, 0.0]\n                    current_weight: [2.5, 1.7000000000000002]\n                \n{'input': [[0, 0], [0, 1], [1, 0], [1, 1]],\n 'learning_coefficient': 0.8,\n 'original_weight': [0.9, 0.5],\n 'target_output': [1, 1, 1, 0],\n 'threshold': -1.6}\n\nEpoque 1 : \n\n                    target_output: 1\n                    actual_output: 1\n                    current_weight: [0.9, 0.5]\n                    weight_change: [0.0, 0.0]\n                    current_weight: [0.9, 0.5]\n                \n\n                    target_output: 1\n                    actual_output: 1\n                    current_weight: [0.9, 0.5]\n                    weight_change: [0.0, 0.0]\n                    current_weight: [0.9, 0.5]\n                \n\n                    target_output: 1\n                    actual_output: 1\n                    current_weight: [0.9, 0.5]\n                    weight_change: [0.0, 0.0]\n                    current_weight: [0.9, 0.5]\n                \n\n                    target_output: 0\n                    actual_output: 1\n                    current_weight: [0.9, 0.5]\n                    weight_change: [-0.8, -0.8]\n                    current_weight: [0.09999999999999998, -0.30000000000000004]\n                \n\nEpoque 2 : \n\n                    target_output: 1\n                    actual_output: 1\n                    current_weight: [0.09999999999999998, -0.30000000000000004]\n                    weight_change: [0.0, 0.0]\n                    current_weight: [0.09999999999999998, -0.30000000000000004]\n                \n\n                    target_output: 1\n                    actual_output: 1\n                    current_weight: [0.09999999999999998, -0.30000000000000004]\n                    weight_change: [0.0, 0.0]\n                    current_weight: [0.09999999999999998, -0.30000000000000004]\n                \n\n                    target_output: 1\n                    actual_output: 1\n                    current_weight: [0.09999999999999998, -0.30000000000000004]\n                    weight_change: [0.0, 0.0]\n                    current_weight: [0.09999999999999998, -0.30000000000000004]\n                \n\n                    target_output: 0\n                    actual_output: 1\n                    current_weight: [0.09999999999999998, -0.30000000000000004]\n                    weight_change: [-0.8, -0.8]\n                    current_weight: [-0.7000000000000001, -1.1]\n                \n\nEpoque 3 : \n\n                    target_output: 1\n                    actual_output: 1\n                    current_weight: [-0.7000000000000001, -1.1]\n                    weight_change: [0.0, 0.0]\n                    current_weight: [-0.7000000000000001, -1.1]\n                \n\n                    target_output: 1\n                    actual_output: 1\n                    current_weight: [-0.7000000000000001, -1.1]\n                    weight_change: [0.0, 0.0]\n                    current_weight: [-0.7000000000000001, -1.1]\n                \n\n                    target_output: 1\n                    actual_output: 1\n                    current_weight: [-0.7000000000000001, -1.1]\n                    weight_change: [0.0, 0.0]\n                    current_weight: [-0.7000000000000001, -1.1]\n                \n\n                    target_output: 0\n                    actual_output: 0\n                    current_weight: [-0.7000000000000001, -1.1]\n                    weight_change: [0.0, 0.0]\n                    current_weight: [-0.7000000000000001, -1.1]\n                \n"
     ]
    }
   ],
   "source": [
    "with open('dataset.json', 'r') as file: dataset = json.load(file)\n",
    "for data in dataset:\n",
    "    pp.pprint(data)\n",
    "    perceptron_simulation(data)"
   ]
  },
  {
   "cell_type": "code",
   "execution_count": null,
   "metadata": {},
   "outputs": [],
   "source": []
  }
 ]
}